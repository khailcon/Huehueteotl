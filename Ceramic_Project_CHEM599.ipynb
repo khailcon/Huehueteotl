{
 "cells": [
  {
   "cell_type": "markdown",
   "metadata": {
    "colab_type": "text",
    "id": "view-in-github"
   },
   "source": [
    "<a href=\"https://colab.research.google.com/github/khailcon/Huehueteotl/blob/Alec_Code/Ceramic_Project_CHEM599.ipynb\" target=\"_parent\"><img src=\"https://colab.research.google.com/assets/colab-badge.svg\" alt=\"Open In Colab\"/></a>"
   ]
  },
  {
   "cell_type": "markdown",
   "metadata": {
    "id": "60I5j5l-F-Tf"
   },
   "source": [
    "# Huehueteotl Ceramic Analysis Project\n",
    "\n",
    "** https://github.com/khailcon/Huehueteotl **\n",
    "\n",
    "##Tasks to accomplish\n",
    "* Edge Detection of ceramics\n",
    "* Void Detection via inverting color scheme\n",
    "* Shape Detection\n",
    "* Automation or For looping for a folder of images\n",
    "* Share an online folder for raw data that we can access using code\n",
    "* Make a yml\n",
    "\n",
    " "
   ]
  },
  {
   "cell_type": "code",
   "execution_count": null,
   "metadata": {},
   "outputs": [],
   "source": []
  },
  {
   "cell_type": "code",
   "execution_count": 11,
   "metadata": {
    "id": "BtccPbjJGuEW"
   },
   "outputs": [],
   "source": [
    "#import all necessary packages\n",
    "import matplotlib.pyplot as plt\n",
    "from math import sqrt\n",
    "import skimage as sk\n",
    "from skimage.color import rgb2gray\n",
    "from skimage.feature import blob_dog, blob_log, blob_doh\n",
    "# turn on if using colab\n",
    "# from google.colab import drive\n",
    "from pathlib import Path\n",
    "import colorthief\n",
    "\n"
   ]
  },
  {
   "cell_type": "code",
   "execution_count": null,
   "metadata": {
    "colab": {
     "base_uri": "https://localhost:8080/"
    },
    "id": "8qxphvPcTCaj",
    "outputId": "e8ac8215-e2c8-41fe-ac5f-8d4568942934"
   },
   "outputs": [],
   "source": [
    "#from google.colab import drive\n",
    "#drive.mount('/content/drive')"
   ]
  },
  {
   "cell_type": "code",
   "execution_count": null,
   "metadata": {
    "colab": {
     "base_uri": "https://localhost:8080/",
     "height": 286
    },
    "id": "QTFQ7YCyg7IB",
    "outputId": "35d857ed-9d24-40c3-feda-d2ea771593a6"
   },
   "outputs": [],
   "source": [
    "\n",
    "def inclusion_counter(image, blob_algorithm = 'doh', max_sigma = 30, threshold = 0.1):\n",
    "  \"\"\"This function returns a rough count of the number of inclusions based on various algorithms\n",
    "\n",
    "  Parameters\n",
    "  -----------\n",
    "  image : image variable\n",
    "  blob_algorithm : str, optional\n",
    "    Default: 'doh'. ('dog': Difference of Gaussian, 'log': Laplacian of Gaussian, 'doh': Determinant of Hessian, 'all': Average of all three)\n",
    "    note- if 'all', threshold for doh will be one magnitude smaller\n",
    "  max_sigma : float, optional\n",
    "    Keep this high to detect large blobs\n",
    "  threshold : float, optional\n",
    "    Reduce this to detect less prominent blobs\n",
    "\n",
    "  Returns\n",
    "  --------\n",
    "  int\n",
    "    number of inclusions\n",
    "  \"\"\"\n",
    "  image_gray = rgb2gray(image)\n",
    "  if blob_algorithm == 'doh':\n",
    "    blobs = blob_doh(image_gray, max_sigma = max_sigma, threshold = threshold)\n",
    "    inclusions = len(blobs)\n",
    "    return inclusions\n",
    "  elif blob_algorithm == 'dog':\n",
    "    blobs = blob_dog(image_gray, max_sigma = max_sigma, threshold = threshold)\n",
    "    blobs[:,2] = blobs[:, 2] * sqrt(2)\n",
    "    inclusions = len(blobs)\n",
    "    return inclusions\n",
    "  elif blob_algorithm == 'log':\n",
    "    blobs = blob_log(image_gray, max_sigma = max_sigma, num_sigma = 10, threshold = threshold)\n",
    "    blobs[:,2] = blobs[:, 2] * sqrt(2)\n",
    "    inclusions = len(blobs)\n",
    "    return inclusions\n",
    "  elif blob_algorithm == 'all':\n",
    "    blobs_doh = blob_doh(image_gray, max_sigma = max_sigma, threshold = .1*threshold)\n",
    "    blobs_dog = blob_dog(image_gray, max_sigma = max_sigma, threshold = threshold)\n",
    "    blobs_dog[:,2] = blobs_dog[:, 2] * sqrt(2)\n",
    "    blobs_log = blob_log(image_gray, max_sigma = max_sigma, num_sigma = 10, threshold = threshold)\n",
    "    blobs_log[:,2] = blobs_log[:, 2] * sqrt(2)\n",
    "    inclusions = ((len(blobs_doh)+len(blobs_dog)+len(blobs_log))/3)\n",
    "    return inclusions"
   ]
  },
  {
   "cell_type": "markdown",
   "metadata": {
    "id": "mZbvNJkohDIn"
   },
   "source": []
  },
  {
   "cell_type": "code",
   "execution_count": null,
   "metadata": {},
   "outputs": [],
   "source": [
    "\n",
    "def inclusion_counter2(folder_path, blob_algorithm = 'doh', max_sigma = 30, threshold = 0.1):\n",
    "  \"\"\"This function returns a rough count of the number of inclusions based on various algorithms for a folder of ceramic scans\n",
    "\n",
    "  Parameters\n",
    "  -----------\n",
    "  folder_path : the path of a local folder with images ending in _int.jpeg starting from 1 to n\n",
    "  blob_algorithm : str, optional\n",
    "    Default: 'doh'. ('dog': Difference of Gaussian, 'log': Laplacian of Gaussian, 'doh': Determinant of Hessian, 'all': Average of all three)\n",
    "    note- if 'all', threshold for doh will be one magnitude smaller\n",
    "  max_sigma : float, optional\n",
    "    Keep this high to detect large blobs\n",
    "  threshold : float, optional\n",
    "    Reduce this to detect less prominent blobs\n",
    "\n",
    "  Returns\n",
    "  --------\n",
    "  DataFrame\n",
    "    Summary statistics for each ceramic's inclusions\n",
    "  \"\"\"\n",
    "\n",
    "    #image selector\n",
    "  pathlist = Path(folder_path).rglob('*.jpeg')\n",
    "  images= []\n",
    "  for path in pathlist:\n",
    "        image = plt.imread(str(path))\n",
    "        images.append(image)\n",
    "\n",
    "#image operations\n",
    "  maxrad = []\n",
    "  meanrad = []\n",
    "  minrad = []\n",
    "  inclusions = []\n",
    "  names = pathlist #need to get a column in there with names from each ceramic might need to be part of top chunk\n",
    "\n",
    "  if blob_algorithm == 'doh':\n",
    "    for im in images:\n",
    "        image_gray = rgb2gray(im)\n",
    "        blobs = blob_doh(image_gray, max_sigma = max_sigma, threshold = threshold)\n",
    "        inclusions.append(len(blobs))\n",
    "        maxrad.append(blobs[_,_,:].np.maximum())\n",
    "        meanrad.append(blobs[_,_,:].np.average())\n",
    "        minrad.append(blobs[_,_,:].np.minimum())\n",
    " \n",
    "    elif blob_algorithm == 'dog':\n",
    "        blobs = blob_dog(image_gray, max_sigma = max_sigma, threshold = threshold)\n",
    "        blobs[:,2] = blobs[:, 2] * sqrt(2)\n",
    "        inclusions = len(blobs)\n",
    "\n",
    "        elif blob_algorithm == 'log':\n",
    "        blobs = blob_log(image_gray, max_sigma = max_sigma, num_sigma = 10, threshold = threshold)\n",
    "        blobs[:,2] = blobs[:, 2] * sqrt(2)\n",
    "        inclusions = len(blobs)\n",
    " \n",
    "        elif blob_algorithm == 'all':\n",
    "        blobs_doh = blob_doh(image_gray, max_sigma = max_sigma, threshold = .1*threshold)\n",
    "        blobs_dog = blob_dog(image_gray, max_sigma = max_sigma, threshold = threshold)\n",
    "        blobs_dog[:,2] = blobs_dog[:, 2] * sqrt(2)\n",
    "        blobs_log = blob_log(image_gray, max_sigma = max_sigma, num_sigma = 10, threshold = threshold)\n",
    "        blobs_log[:,2] = blobs_log[:, 2] * sqrt(2)\n",
    "        inclusions = ((len(blobs_doh)+len(blobs_dog)+len(blobs_log))/3)\n",
    "   return pd.DataFrame(list(zip(names, inclusions, maxrad, meanrad, minrad)),\n",
    "            columns =['Names', 'Count', 'Max inclusion size', 'avg inclusion size', 'minimum inclusion size'])"
   ]
  },
  {
   "cell_type": "code",
   "execution_count": 3,
   "metadata": {},
   "outputs": [],
   "source": [
    "folder_path = '/Users/aiacobucci922/Documents/CHEM_599/Raw_Images/'\n",
    "pathlist = Path(folder_path).rglob('*.jpeg')\n",
    "images= []\n",
    "for path in pathlist:\n",
    "    image = plt.imread(str(path))\n",
    "    images.append(image)\n"
   ]
  },
  {
   "cell_type": "code",
   "execution_count": null,
   "metadata": {
    "tags": []
   },
   "outputs": [],
   "source": [
    "images"
   ]
  },
  {
   "cell_type": "code",
   "execution_count": null,
   "metadata": {
    "colab": {
     "base_uri": "https://localhost:8080/",
     "height": 761
    },
    "id": "Gh-h7kNdSoJZ",
    "outputId": "3d46df7a-1e33-4022-f49e-91d424c6c2ef"
   },
   "outputs": [],
   "source": [
    "impath_google = '/content/drive/MyDrive/Ceramics_Images/Ceramic_13.jpeg'\n",
    "impath_local = '/Users/aiacobucci922/Documents/CHEM_599/Raw_Images/Ceramic_'\n",
    "image = plt.imread(impath)\n",
    "image_gray = rgb2gray(image)\n",
    "\n",
    "blobs_log = blob_log(image_gray, max_sigma=50, num_sigma=10, threshold=.4)\n",
    "\n",
    "# Compute radii in the 3rd column.\n",
    "blobs_log[:, 2] = blobs_log[:, 2] * sqrt(2)\n",
    "\n",
    "blobs_dog = blob_dog(image_gray, max_sigma=30, threshold=.4)\n",
    "blobs_dog[:, 2] = blobs_dog[:, 2] * sqrt(2)\n",
    "\n",
    "blobs_doh = blob_doh(image_gray, max_sigma=30, threshold=.01)\n",
    "\n",
    "blobs_list = [blobs_log, blobs_dog, blobs_doh]\n",
    "colors = ['yellow', 'lime', 'red']\n",
    "titles = ['Laplacian of Gaussian', 'Difference of Gaussian',\n",
    "          'Determinant of Hessian']\n",
    "sequence = zip(blobs_list, colors, titles)\n",
    "\n",
    "fig, axes = plt.subplots(1, 3, figsize=(120, 40), sharex=True, sharey=True)\n",
    "ax = axes.ravel()\n",
    "\n",
    "for idx, (blobs, color, title) in enumerate(sequence):\n",
    "    ax[idx].set_title(title)\n",
    "    ax[idx].imshow(image)\n",
    "    for blob in blobs:\n",
    "        y, x, r = blob\n",
    "        c = plt.Circle((x, y), r, color=color, linewidth=2, fill=False)\n",
    "        ax[idx].add_patch(c)\n",
    "    ax[idx].set_axis_off()\n",
    "\n",
    "plt.tight_layout()\n",
    "plt.show()\n",
    "\n",
    "fig.savefig('lowered_sensitivity_large.jpg')"
   ]
  },
  {
   "cell_type": "code",
   "execution_count": null,
   "metadata": {
    "colab": {
     "base_uri": "https://localhost:8080/",
     "height": 291
    },
    "id": "bT5mnTsDaeIV",
    "outputId": "2b802e3d-2b5d-4ec3-b2ef-eb88e19f3f8a"
   },
   "outputs": [],
   "source": [
    "import pandas as pd\n",
    "dog_df = pd.DataFrame(data = blobs_dog, columns = ['x location of center', 'y location of center', 'radius (px)'])\n",
    "dog_df.describe(include='all')"
   ]
  },
  {
   "cell_type": "code",
   "execution_count": null,
   "metadata": {
    "colab": {
     "base_uri": "https://localhost:8080/",
     "height": 291
    },
    "id": "nJ92y9RZg5Fd",
    "outputId": "9cbc4ea9-d9f4-401e-a149-2777a3abde6c"
   },
   "outputs": [],
   "source": [
    "doh_df = pd.DataFrame(data = blobs_doh, columns = ['x location of center', 'y location of center', 'radius (px)'])\n",
    "doh_df.describe(include='all')"
   ]
  },
  {
   "cell_type": "code",
   "execution_count": null,
   "metadata": {
    "id": "WLv9tqwgU3Ha"
   },
   "outputs": [],
   "source": [
    "from skimage.filters import rank\n",
    "from skimage.morphology import disk, square\n",
    "from skimage.util import img_as_float, img_as_ubyte\n",
    "\n",
    "selem = disk(2)\n",
    "\n"
   ]
  },
  {
   "cell_type": "markdown",
   "metadata": {
    "id": "SbPoYbEJZW-G"
   },
   "source": [
    "##Run a blur on the image first because these scans seem to be too noisy\n"
   ]
  },
  {
   "cell_type": "code",
   "execution_count": null,
   "metadata": {
    "colab": {
     "base_uri": "https://localhost:8080/",
     "height": 814
    },
    "id": "Lj7MjwxTVCYk",
    "outputId": "d8269ee0-eae3-4262-c406-84f451f70403"
   },
   "outputs": [],
   "source": [
    "im2 = image\n",
    "image_gray = rank.mean(rgb2gray(im2), selem = selem)\n",
    "\n",
    "blobs_log = blob_log(image_gray, max_sigma=30, num_sigma=10, threshold=.1)\n",
    "\n",
    "# Compute radii in the 3rd column.\n",
    "blobs_log[:, 2] = blobs_log[:, 2] * sqrt(2)\n",
    "\n",
    "blobs_dog = blob_dog(image_gray, max_sigma=30, threshold=.1)\n",
    "blobs_dog[:, 2] = blobs_dog[:, 2] * sqrt(2)\n",
    "\n",
    "blobs_doh = blob_doh(image_gray, max_sigma=30, threshold=.01)\n",
    "\n",
    "blobs_list = [blobs_log, blobs_dog, blobs_doh]\n",
    "colors = ['yellow', 'lime', 'red']\n",
    "titles = ['Laplacian of Gaussian', 'Difference of Gaussian',\n",
    "          'Determinant of Hessian']\n",
    "sequence = zip(blobs_list, colors, titles)\n",
    "\n",
    "fig, axes = plt.subplots(1, 3, figsize=(30, 10), sharex=True, sharey=True)\n",
    "ax = axes.ravel()\n",
    "\n",
    "for idx, (blobs, color, title) in enumerate(sequence):\n",
    "    ax[idx].set_title(title)\n",
    "    ax[idx].imshow(im2)\n",
    "    for blob in blobs:\n",
    "        y, x, r = blob\n",
    "        c = plt.Circle((x, y), r, color=color, linewidth=2, fill=False)\n",
    "        ax[idx].add_patch(c)\n",
    "    ax[idx].set_axis_off()\n",
    "\n",
    "plt.tight_layout()\n",
    "plt.show()"
   ]
  },
  {
   "cell_type": "markdown",
   "metadata": {
    "id": "h6y8spTsZgVM"
   },
   "source": [
    "DoH seems to have been over compensated, maybe we should adjust the settings of the blob detector, but DoG and LoG are still finding way too many small boobs where there aren't any. Perhaps adjust counter for a > < of radii? "
   ]
  },
  {
   "cell_type": "code",
   "execution_count": 12,
   "metadata": {
    "id": "l6cVYwbrXpqF"
   },
   "outputs": [],
   "source": [
    "#Dominant color detection \n",
    "from colorthief import ColorThief\n",
    "\n",
    "images= []\n",
    "for path in pathlist:\n",
    "    image = ColorThief(str(path))\n",
    "    images.append(image)\n",
    "\n",
    "color_thief = image[0]"
   ]
  },
  {
   "cell_type": "code",
   "execution_count": 13,
   "metadata": {},
   "outputs": [
    {
     "ename": "AttributeError",
     "evalue": "'numpy.ndarray' object has no attribute 'get_color'",
     "output_type": "error",
     "traceback": [
      "\u001b[0;31m---------------------------------------------------------------------------\u001b[0m",
      "\u001b[0;31mAttributeError\u001b[0m                            Traceback (most recent call last)",
      "\u001b[0;32m<ipython-input-13-d43039536e21>\u001b[0m in \u001b[0;36m<module>\u001b[0;34m\u001b[0m\n\u001b[0;32m----> 1\u001b[0;31m \u001b[0mcolor_thief\u001b[0m\u001b[0;34m.\u001b[0m\u001b[0mget_color\u001b[0m\u001b[0;34m(\u001b[0m\u001b[0;34m)\u001b[0m\u001b[0;34m\u001b[0m\u001b[0;34m\u001b[0m\u001b[0m\n\u001b[0m",
      "\u001b[0;31mAttributeError\u001b[0m: 'numpy.ndarray' object has no attribute 'get_color'"
     ]
    }
   ],
   "source": [
    "color_thief.get_color()"
   ]
  },
  {
   "cell_type": "code",
   "execution_count": null,
   "metadata": {},
   "outputs": [],
   "source": []
  }
 ],
 "metadata": {
  "colab": {
   "include_colab_link": true,
   "name": "Ceramic Project CHEM599.ipynb",
   "provenance": [],
   "toc_visible": true
  },
  "kernelspec": {
   "display_name": "Python 3",
   "language": "python",
   "name": "python3"
  },
  "language_info": {
   "codemirror_mode": {
    "name": "ipython",
    "version": 3
   },
   "file_extension": ".py",
   "mimetype": "text/x-python",
   "name": "python",
   "nbconvert_exporter": "python",
   "pygments_lexer": "ipython3",
   "version": "3.8.10"
  }
 },
 "nbformat": 4,
 "nbformat_minor": 4
}
