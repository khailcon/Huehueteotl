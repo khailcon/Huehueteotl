{
  "nbformat": 4,
  "nbformat_minor": 0,
  "metadata": {
    "colab": {
      "name": "Ceramic Project CHEM599.ipynb",
      "provenance": [],
      "include_colab_link": true
    },
    "kernelspec": {
      "name": "python3",
      "display_name": "Python 3"
    },
    "language_info": {
      "name": "python"
    }
  },
  "cells": [
    {
      "cell_type": "markdown",
      "metadata": {
        "id": "view-in-github",
        "colab_type": "text"
      },
      "source": [
        "<a href=\"https://colab.research.google.com/github/khailcon/Huehueteotl/blob/main/Ceramic_Project_CHEM599.ipynb\" target=\"_parent\"><img src=\"https://colab.research.google.com/assets/colab-badge.svg\" alt=\"Open In Colab\"/></a>"
      ]
    },
    {
      "cell_type": "markdown",
      "metadata": {
        "id": "60I5j5l-F-Tf"
      },
      "source": [
        "# Huehueteotl Ceramic Analysis Project\n",
        "\n",
        "** https://github.com/khailcon/Huehueteotl **\n",
        "\n",
        "##Tasks to accomplish\n",
        "* Edge Detection of ceramics\n",
        "* Void Detection via inverting color scheme\n",
        "* Shape Detection\n",
        "* Automation or For looping for a folder of images\n",
        "* Share an online folder for raw data that we can access using code\n",
        "* Make a yml\n",
        "\n",
        " "
      ]
    },
    {
      "cell_type": "code",
      "metadata": {
        "id": "BtccPbjJGuEW"
      },
      "source": [
        "#import all necessary packages\n",
        "import matplotlib as plt\n",
        "from math import sqrt\n",
        "import skimage as sk\n",
        "from skimage.feature import blob_dog, blob_log, blob_doh\n",
        "from google.colab import drive\n",
        "from pathlib import Path\n",
        "\n"
      ],
      "execution_count": null,
      "outputs": []
    },
    {
      "cell_type": "code",
      "metadata": {
        "id": "QTFQ7YCyg7IB"
      },
      "source": [
        ""
      ],
      "execution_count": null,
      "outputs": []
    },
    {
      "cell_type": "markdown",
      "metadata": {
        "id": "mZbvNJkohDIn"
      },
      "source": [
        ""
      ]
    }
  ]
}